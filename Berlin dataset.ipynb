{
 "cells": [
  {
   "cell_type": "code",
   "execution_count": 48,
   "id": "6e27e4ac",
   "metadata": {},
   "outputs": [],
   "source": [
    "%matplotlib inline\n",
    "\n",
    "import numpy as np\n",
    "import pandas as pd\n",
    "import statsmodels.api as sm\n",
    "import matplotlib.pyplot as plt\n",
    "import matplotlib as mlt"
   ]
  },
  {
   "cell_type": "code",
   "execution_count": 49,
   "id": "77ec4a4d",
   "metadata": {},
   "outputs": [
    {
     "data": {
      "text/html": [
       "<div>\n",
       "<style scoped>\n",
       "    .dataframe tbody tr th:only-of-type {\n",
       "        vertical-align: middle;\n",
       "    }\n",
       "\n",
       "    .dataframe tbody tr th {\n",
       "        vertical-align: top;\n",
       "    }\n",
       "\n",
       "    .dataframe thead th {\n",
       "        text-align: right;\n",
       "    }\n",
       "</style>\n",
       "<table border=\"1\" class=\"dataframe\">\n",
       "  <thead>\n",
       "    <tr style=\"text-align: right;\">\n",
       "      <th></th>\n",
       "      <th>Name_country</th>\n",
       "      <th>Age_group</th>\n",
       "      <th>Number</th>\n",
       "      <th>Time</th>\n",
       "      <th>Pace_0_5</th>\n",
       "      <th>Pace_35_40</th>\n",
       "      <th>First_half</th>\n",
       "      <th>Second_half</th>\n",
       "    </tr>\n",
       "  </thead>\n",
       "  <tbody>\n",
       "    <tr>\n",
       "      <th>0</th>\n",
       "      <td>Adola, Guye (ETH)</td>\n",
       "      <td>M30</td>\n",
       "      <td>2.0</td>\n",
       "      <td>02:05:48</td>\n",
       "      <td>02:53</td>\n",
       "      <td>03:12</td>\n",
       "      <td>01:00:48</td>\n",
       "      <td>01:05:00</td>\n",
       "    </tr>\n",
       "  </tbody>\n",
       "</table>\n",
       "</div>"
      ],
      "text/plain": [
       "        Name_country Age_group  Number      Time Pace_0_5 Pace_35_40  \\\n",
       "0  Adola, Guye (ETH)       M30     2.0  02:05:48    02:53      03:12   \n",
       "\n",
       "  First_half Second_half  \n",
       "0   01:00:48    01:05:00  "
      ]
     },
     "execution_count": 49,
     "metadata": {},
     "output_type": "execute_result"
    }
   ],
   "source": [
    "df = pd.read_csv('marathon_raw.csv', sep=';')\n",
    "df.head(1)"
   ]
  },
  {
   "cell_type": "code",
   "execution_count": 50,
   "id": "fe6df2bb",
   "metadata": {},
   "outputs": [
    {
     "name": "stdout",
     "output_type": "stream",
     "text": [
      "<class 'pandas.core.frame.DataFrame'>\n",
      "RangeIndex: 26 entries, 0 to 25\n",
      "Data columns (total 8 columns):\n",
      " #   Column        Non-Null Count  Dtype  \n",
      "---  ------        --------------  -----  \n",
      " 0   Name_country  1 non-null      object \n",
      " 1   Age_group     1 non-null      object \n",
      " 2   Number        1 non-null      float64\n",
      " 3   Time          1 non-null      object \n",
      " 4   Pace_0_5      1 non-null      object \n",
      " 5   Pace_35_40    1 non-null      object \n",
      " 6   First_half    1 non-null      object \n",
      " 7   Second_half   1 non-null      object \n",
      "dtypes: float64(1), object(7)\n",
      "memory usage: 1.8+ KB\n"
     ]
    }
   ],
   "source": [
    "df.info()"
   ]
  },
  {
   "cell_type": "code",
   "execution_count": 51,
   "id": "0e29e215",
   "metadata": {},
   "outputs": [
    {
     "data": {
      "text/html": [
       "<div>\n",
       "<style scoped>\n",
       "    .dataframe tbody tr th:only-of-type {\n",
       "        vertical-align: middle;\n",
       "    }\n",
       "\n",
       "    .dataframe tbody tr th {\n",
       "        vertical-align: top;\n",
       "    }\n",
       "\n",
       "    .dataframe thead th {\n",
       "        text-align: right;\n",
       "    }\n",
       "</style>\n",
       "<table border=\"1\" class=\"dataframe\">\n",
       "  <thead>\n",
       "    <tr style=\"text-align: right;\">\n",
       "      <th></th>\n",
       "      <th>Name_country</th>\n",
       "      <th>Age_group</th>\n",
       "      <th>Number</th>\n",
       "      <th>Time</th>\n",
       "      <th>Pace_0_5</th>\n",
       "      <th>Pace_35_40</th>\n",
       "      <th>First_half</th>\n",
       "      <th>Second_half</th>\n",
       "      <th>Country</th>\n",
       "    </tr>\n",
       "  </thead>\n",
       "  <tbody>\n",
       "    <tr>\n",
       "      <th>0</th>\n",
       "      <td>Adola, Guye (ETH)</td>\n",
       "      <td>M30</td>\n",
       "      <td>2.0</td>\n",
       "      <td>02:05:48</td>\n",
       "      <td>02:53</td>\n",
       "      <td>03:12</td>\n",
       "      <td>01:00:48</td>\n",
       "      <td>01:05:00</td>\n",
       "      <td>ETH</td>\n",
       "    </tr>\n",
       "  </tbody>\n",
       "</table>\n",
       "</div>"
      ],
      "text/plain": [
       "        Name_country Age_group  Number      Time Pace_0_5 Pace_35_40  \\\n",
       "0  Adola, Guye (ETH)       M30     2.0  02:05:48    02:53      03:12   \n",
       "\n",
       "  First_half Second_half Country  \n",
       "0   01:00:48    01:05:00     ETH  "
      ]
     },
     "execution_count": 51,
     "metadata": {},
     "output_type": "execute_result"
    }
   ],
   "source": [
    "df['Country'] = df['Name_country'].str[-4:-1]\n",
    "df.head(1)"
   ]
  },
  {
   "cell_type": "code",
   "execution_count": 52,
   "id": "c4600bd8",
   "metadata": {},
   "outputs": [
    {
     "data": {
      "text/html": [
       "<div>\n",
       "<style scoped>\n",
       "    .dataframe tbody tr th:only-of-type {\n",
       "        vertical-align: middle;\n",
       "    }\n",
       "\n",
       "    .dataframe tbody tr th {\n",
       "        vertical-align: top;\n",
       "    }\n",
       "\n",
       "    .dataframe thead th {\n",
       "        text-align: right;\n",
       "    }\n",
       "</style>\n",
       "<table border=\"1\" class=\"dataframe\">\n",
       "  <thead>\n",
       "    <tr style=\"text-align: right;\">\n",
       "      <th></th>\n",
       "      <th>Name_country</th>\n",
       "      <th>Age_group</th>\n",
       "      <th>Number</th>\n",
       "      <th>Time</th>\n",
       "      <th>Pace_0_5</th>\n",
       "      <th>Pace_35_40</th>\n",
       "      <th>First_half</th>\n",
       "      <th>Second_half</th>\n",
       "      <th>Country</th>\n",
       "      <th>Gender</th>\n",
       "    </tr>\n",
       "  </thead>\n",
       "  <tbody>\n",
       "    <tr>\n",
       "      <th>0</th>\n",
       "      <td>Adola, Guye (ETH)</td>\n",
       "      <td>M30</td>\n",
       "      <td>2.0</td>\n",
       "      <td>02:05:48</td>\n",
       "      <td>02:53</td>\n",
       "      <td>03:12</td>\n",
       "      <td>01:00:48</td>\n",
       "      <td>01:05:00</td>\n",
       "      <td>ETH</td>\n",
       "      <td>M</td>\n",
       "    </tr>\n",
       "  </tbody>\n",
       "</table>\n",
       "</div>"
      ],
      "text/plain": [
       "        Name_country Age_group  Number      Time Pace_0_5 Pace_35_40  \\\n",
       "0  Adola, Guye (ETH)       M30     2.0  02:05:48    02:53      03:12   \n",
       "\n",
       "  First_half Second_half Country Gender  \n",
       "0   01:00:48    01:05:00     ETH      M  "
      ]
     },
     "execution_count": 52,
     "metadata": {},
     "output_type": "execute_result"
    }
   ],
   "source": [
    "df['Gender'] = df['Age_group'].str[0:1]\n",
    "df.head(1)"
   ]
  },
  {
   "cell_type": "code",
   "execution_count": 53,
   "id": "8dd6f6cb",
   "metadata": {},
   "outputs": [
    {
     "data": {
      "text/html": [
       "<div>\n",
       "<style scoped>\n",
       "    .dataframe tbody tr th:only-of-type {\n",
       "        vertical-align: middle;\n",
       "    }\n",
       "\n",
       "    .dataframe tbody tr th {\n",
       "        vertical-align: top;\n",
       "    }\n",
       "\n",
       "    .dataframe thead th {\n",
       "        text-align: right;\n",
       "    }\n",
       "</style>\n",
       "<table border=\"1\" class=\"dataframe\">\n",
       "  <thead>\n",
       "    <tr style=\"text-align: right;\">\n",
       "      <th></th>\n",
       "      <th>Name_country</th>\n",
       "      <th>Age_group</th>\n",
       "      <th>Number</th>\n",
       "      <th>Time</th>\n",
       "      <th>Pace_0_5</th>\n",
       "      <th>Pace_35_40</th>\n",
       "      <th>First_half</th>\n",
       "      <th>Second_half</th>\n",
       "      <th>Country</th>\n",
       "      <th>Gender</th>\n",
       "      <th>Age</th>\n",
       "    </tr>\n",
       "  </thead>\n",
       "  <tbody>\n",
       "    <tr>\n",
       "      <th>0</th>\n",
       "      <td>Adola, Guye (ETH)</td>\n",
       "      <td>M30</td>\n",
       "      <td>2.0</td>\n",
       "      <td>02:05:48</td>\n",
       "      <td>02:53</td>\n",
       "      <td>03:12</td>\n",
       "      <td>01:00:48</td>\n",
       "      <td>01:05:00</td>\n",
       "      <td>ETH</td>\n",
       "      <td>M</td>\n",
       "      <td>30</td>\n",
       "    </tr>\n",
       "  </tbody>\n",
       "</table>\n",
       "</div>"
      ],
      "text/plain": [
       "        Name_country Age_group  Number      Time Pace_0_5 Pace_35_40  \\\n",
       "0  Adola, Guye (ETH)       M30     2.0  02:05:48    02:53      03:12   \n",
       "\n",
       "  First_half Second_half Country Gender Age  \n",
       "0   01:00:48    01:05:00     ETH      M  30  "
      ]
     },
     "execution_count": 53,
     "metadata": {},
     "output_type": "execute_result"
    }
   ],
   "source": [
    "df['Age'] = df['Age_group'].str[1:]\n",
    "df.head(1)"
   ]
  },
  {
   "cell_type": "code",
   "execution_count": 54,
   "id": "9018b241",
   "metadata": {},
   "outputs": [
    {
     "data": {
      "text/html": [
       "<div>\n",
       "<style scoped>\n",
       "    .dataframe tbody tr th:only-of-type {\n",
       "        vertical-align: middle;\n",
       "    }\n",
       "\n",
       "    .dataframe tbody tr th {\n",
       "        vertical-align: top;\n",
       "    }\n",
       "\n",
       "    .dataframe thead th {\n",
       "        text-align: right;\n",
       "    }\n",
       "</style>\n",
       "<table border=\"1\" class=\"dataframe\">\n",
       "  <thead>\n",
       "    <tr style=\"text-align: right;\">\n",
       "      <th></th>\n",
       "      <th>English short name lower case</th>\n",
       "      <th>Alpha-2 code</th>\n",
       "      <th>Alpha-3 code</th>\n",
       "      <th>Numeric code</th>\n",
       "      <th>ISO 3166-2</th>\n",
       "    </tr>\n",
       "  </thead>\n",
       "  <tbody>\n",
       "    <tr>\n",
       "      <th>0</th>\n",
       "      <td>Afghanistan</td>\n",
       "      <td>AF</td>\n",
       "      <td>AFG</td>\n",
       "      <td>4</td>\n",
       "      <td>ISO 3166-2:AF</td>\n",
       "    </tr>\n",
       "    <tr>\n",
       "      <th>1</th>\n",
       "      <td>Åland Islands</td>\n",
       "      <td>AX</td>\n",
       "      <td>ALA</td>\n",
       "      <td>248</td>\n",
       "      <td>ISO 3166-2:AX</td>\n",
       "    </tr>\n",
       "  </tbody>\n",
       "</table>\n",
       "</div>"
      ],
      "text/plain": [
       "  English short name lower case Alpha-2 code Alpha-3 code  Numeric code  \\\n",
       "0                   Afghanistan           AF          AFG             4   \n",
       "1                 Åland Islands           AX          ALA           248   \n",
       "\n",
       "      ISO 3166-2  \n",
       "0  ISO 3166-2:AF  \n",
       "1  ISO 3166-2:AX  "
      ]
     },
     "execution_count": 54,
     "metadata": {},
     "output_type": "execute_result"
    }
   ],
   "source": [
    "df2 = pd.read_csv('wikipedia-iso-country-codes.csv')\n",
    "df2.head(2)"
   ]
  },
  {
   "cell_type": "code",
   "execution_count": 55,
   "id": "a9aa6bd1",
   "metadata": {},
   "outputs": [
    {
     "data": {
      "text/html": [
       "<div>\n",
       "<style scoped>\n",
       "    .dataframe tbody tr th:only-of-type {\n",
       "        vertical-align: middle;\n",
       "    }\n",
       "\n",
       "    .dataframe tbody tr th {\n",
       "        vertical-align: top;\n",
       "    }\n",
       "\n",
       "    .dataframe thead th {\n",
       "        text-align: right;\n",
       "    }\n",
       "</style>\n",
       "<table border=\"1\" class=\"dataframe\">\n",
       "  <thead>\n",
       "    <tr style=\"text-align: right;\">\n",
       "      <th></th>\n",
       "      <th>Country_long</th>\n",
       "      <th>Alpha-2 code</th>\n",
       "      <th>Country</th>\n",
       "      <th>Numeric code</th>\n",
       "      <th>ISO 3166-2</th>\n",
       "    </tr>\n",
       "  </thead>\n",
       "  <tbody>\n",
       "    <tr>\n",
       "      <th>0</th>\n",
       "      <td>Afghanistan</td>\n",
       "      <td>AF</td>\n",
       "      <td>AFG</td>\n",
       "      <td>4</td>\n",
       "      <td>ISO 3166-2:AF</td>\n",
       "    </tr>\n",
       "    <tr>\n",
       "      <th>1</th>\n",
       "      <td>Åland Islands</td>\n",
       "      <td>AX</td>\n",
       "      <td>ALA</td>\n",
       "      <td>248</td>\n",
       "      <td>ISO 3166-2:AX</td>\n",
       "    </tr>\n",
       "    <tr>\n",
       "      <th>2</th>\n",
       "      <td>Albania</td>\n",
       "      <td>AL</td>\n",
       "      <td>ALB</td>\n",
       "      <td>8</td>\n",
       "      <td>ISO 3166-2:AL</td>\n",
       "    </tr>\n",
       "    <tr>\n",
       "      <th>3</th>\n",
       "      <td>Algeria</td>\n",
       "      <td>DZ</td>\n",
       "      <td>DZA</td>\n",
       "      <td>12</td>\n",
       "      <td>ISO 3166-2:DZ</td>\n",
       "    </tr>\n",
       "    <tr>\n",
       "      <th>4</th>\n",
       "      <td>American Samoa</td>\n",
       "      <td>AS</td>\n",
       "      <td>ASM</td>\n",
       "      <td>16</td>\n",
       "      <td>ISO 3166-2:AS</td>\n",
       "    </tr>\n",
       "    <tr>\n",
       "      <th>...</th>\n",
       "      <td>...</td>\n",
       "      <td>...</td>\n",
       "      <td>...</td>\n",
       "      <td>...</td>\n",
       "      <td>...</td>\n",
       "    </tr>\n",
       "    <tr>\n",
       "      <th>241</th>\n",
       "      <td>Wallis and Futuna</td>\n",
       "      <td>WF</td>\n",
       "      <td>WLF</td>\n",
       "      <td>876</td>\n",
       "      <td>ISO 3166-2:WF</td>\n",
       "    </tr>\n",
       "    <tr>\n",
       "      <th>242</th>\n",
       "      <td>Western Sahara</td>\n",
       "      <td>EH</td>\n",
       "      <td>ESH</td>\n",
       "      <td>732</td>\n",
       "      <td>ISO 3166-2:EH</td>\n",
       "    </tr>\n",
       "    <tr>\n",
       "      <th>243</th>\n",
       "      <td>Yemen</td>\n",
       "      <td>YE</td>\n",
       "      <td>YEM</td>\n",
       "      <td>887</td>\n",
       "      <td>ISO 3166-2:YE</td>\n",
       "    </tr>\n",
       "    <tr>\n",
       "      <th>244</th>\n",
       "      <td>Zambia</td>\n",
       "      <td>ZM</td>\n",
       "      <td>ZMB</td>\n",
       "      <td>894</td>\n",
       "      <td>ISO 3166-2:ZM</td>\n",
       "    </tr>\n",
       "    <tr>\n",
       "      <th>245</th>\n",
       "      <td>Zimbabwe</td>\n",
       "      <td>ZW</td>\n",
       "      <td>ZWE</td>\n",
       "      <td>716</td>\n",
       "      <td>ISO 3166-2:ZW</td>\n",
       "    </tr>\n",
       "  </tbody>\n",
       "</table>\n",
       "<p>246 rows × 5 columns</p>\n",
       "</div>"
      ],
      "text/plain": [
       "          Country_long Alpha-2 code Country  Numeric code     ISO 3166-2\n",
       "0          Afghanistan           AF     AFG             4  ISO 3166-2:AF\n",
       "1        Åland Islands           AX     ALA           248  ISO 3166-2:AX\n",
       "2              Albania           AL     ALB             8  ISO 3166-2:AL\n",
       "3              Algeria           DZ     DZA            12  ISO 3166-2:DZ\n",
       "4       American Samoa           AS     ASM            16  ISO 3166-2:AS\n",
       "..                 ...          ...     ...           ...            ...\n",
       "241  Wallis and Futuna           WF     WLF           876  ISO 3166-2:WF\n",
       "242     Western Sahara           EH     ESH           732  ISO 3166-2:EH\n",
       "243              Yemen           YE     YEM           887  ISO 3166-2:YE\n",
       "244             Zambia           ZM     ZMB           894  ISO 3166-2:ZM\n",
       "245           Zimbabwe           ZW     ZWE           716  ISO 3166-2:ZW\n",
       "\n",
       "[246 rows x 5 columns]"
      ]
     },
     "execution_count": 55,
     "metadata": {},
     "output_type": "execute_result"
    }
   ],
   "source": [
    "df2.rename(columns={'Alpha-3 code': 'Country', 'English short name lower case': 'Country_long'}, inplace=True)\n",
    "df2"
   ]
  },
  {
   "cell_type": "code",
   "execution_count": 56,
   "id": "6aad02b4",
   "metadata": {},
   "outputs": [
    {
     "data": {
      "text/html": [
       "<div>\n",
       "<style scoped>\n",
       "    .dataframe tbody tr th:only-of-type {\n",
       "        vertical-align: middle;\n",
       "    }\n",
       "\n",
       "    .dataframe tbody tr th {\n",
       "        vertical-align: top;\n",
       "    }\n",
       "\n",
       "    .dataframe thead th {\n",
       "        text-align: right;\n",
       "    }\n",
       "</style>\n",
       "<table border=\"1\" class=\"dataframe\">\n",
       "  <thead>\n",
       "    <tr style=\"text-align: right;\">\n",
       "      <th></th>\n",
       "      <th>Country_long</th>\n",
       "      <th>Country</th>\n",
       "    </tr>\n",
       "  </thead>\n",
       "  <tbody>\n",
       "    <tr>\n",
       "      <th>0</th>\n",
       "      <td>Afghanistan</td>\n",
       "      <td>AFG</td>\n",
       "    </tr>\n",
       "    <tr>\n",
       "      <th>1</th>\n",
       "      <td>Åland Islands</td>\n",
       "      <td>ALA</td>\n",
       "    </tr>\n",
       "    <tr>\n",
       "      <th>2</th>\n",
       "      <td>Albania</td>\n",
       "      <td>ALB</td>\n",
       "    </tr>\n",
       "    <tr>\n",
       "      <th>3</th>\n",
       "      <td>Algeria</td>\n",
       "      <td>DZA</td>\n",
       "    </tr>\n",
       "    <tr>\n",
       "      <th>4</th>\n",
       "      <td>American Samoa</td>\n",
       "      <td>ASM</td>\n",
       "    </tr>\n",
       "  </tbody>\n",
       "</table>\n",
       "</div>"
      ],
      "text/plain": [
       "     Country_long Country\n",
       "0     Afghanistan     AFG\n",
       "1   Åland Islands     ALA\n",
       "2         Albania     ALB\n",
       "3         Algeria     DZA\n",
       "4  American Samoa     ASM"
      ]
     },
     "execution_count": 56,
     "metadata": {},
     "output_type": "execute_result"
    }
   ],
   "source": [
    "df2.loc[:, ['Country_long','Country']].head()"
   ]
  },
  {
   "cell_type": "code",
   "execution_count": 57,
   "id": "4d8fd0e1",
   "metadata": {},
   "outputs": [],
   "source": [
    "df_merged = pd.merge(df, \n",
    "                      df2.loc[:, ['Country_long','Country']], \n",
    "                      on ='Country', \n",
    "                      how ='inner')"
   ]
  },
  {
   "cell_type": "code",
   "execution_count": 58,
   "id": "927d9f17",
   "metadata": {},
   "outputs": [
    {
     "data": {
      "text/html": [
       "<div>\n",
       "<style scoped>\n",
       "    .dataframe tbody tr th:only-of-type {\n",
       "        vertical-align: middle;\n",
       "    }\n",
       "\n",
       "    .dataframe tbody tr th {\n",
       "        vertical-align: top;\n",
       "    }\n",
       "\n",
       "    .dataframe thead th {\n",
       "        text-align: right;\n",
       "    }\n",
       "</style>\n",
       "<table border=\"1\" class=\"dataframe\">\n",
       "  <thead>\n",
       "    <tr style=\"text-align: right;\">\n",
       "      <th></th>\n",
       "      <th>Name_country</th>\n",
       "      <th>Age_group</th>\n",
       "      <th>Number</th>\n",
       "      <th>Time</th>\n",
       "      <th>Pace_0_5</th>\n",
       "      <th>Pace_35_40</th>\n",
       "      <th>First_half</th>\n",
       "      <th>Second_half</th>\n",
       "      <th>Country</th>\n",
       "      <th>Gender</th>\n",
       "      <th>Age</th>\n",
       "      <th>Country_long</th>\n",
       "    </tr>\n",
       "  </thead>\n",
       "  <tbody>\n",
       "    <tr>\n",
       "      <th>0</th>\n",
       "      <td>Adola, Guye (ETH)</td>\n",
       "      <td>M30</td>\n",
       "      <td>2.0</td>\n",
       "      <td>02:05:48</td>\n",
       "      <td>02:53</td>\n",
       "      <td>03:12</td>\n",
       "      <td>01:00:48</td>\n",
       "      <td>01:05:00</td>\n",
       "      <td>ETH</td>\n",
       "      <td>M</td>\n",
       "      <td>30</td>\n",
       "      <td>Ethiopia</td>\n",
       "    </tr>\n",
       "  </tbody>\n",
       "</table>\n",
       "</div>"
      ],
      "text/plain": [
       "        Name_country Age_group  Number      Time Pace_0_5 Pace_35_40  \\\n",
       "0  Adola, Guye (ETH)       M30     2.0  02:05:48    02:53      03:12   \n",
       "\n",
       "  First_half Second_half Country Gender Age Country_long  \n",
       "0   01:00:48    01:05:00     ETH      M  30     Ethiopia  "
      ]
     },
     "execution_count": 58,
     "metadata": {},
     "output_type": "execute_result"
    }
   ],
   "source": [
    "df_merged"
   ]
  },
  {
   "cell_type": "code",
   "execution_count": 61,
   "id": "887a219a",
   "metadata": {},
   "outputs": [],
   "source": [
    "df_merged[['Name','Country2']] = df_merged.Name_country.apply(\n",
    "   lambda x: pd.Series(str(x).split(\"(\")))\n",
    "df_merged.drop('Country2', axis=1, inplace=True)"
   ]
  },
  {
   "cell_type": "code",
   "execution_count": 62,
   "id": "2d26e9c7",
   "metadata": {},
   "outputs": [
    {
     "data": {
      "text/html": [
       "<div>\n",
       "<style scoped>\n",
       "    .dataframe tbody tr th:only-of-type {\n",
       "        vertical-align: middle;\n",
       "    }\n",
       "\n",
       "    .dataframe tbody tr th {\n",
       "        vertical-align: top;\n",
       "    }\n",
       "\n",
       "    .dataframe thead th {\n",
       "        text-align: right;\n",
       "    }\n",
       "</style>\n",
       "<table border=\"1\" class=\"dataframe\">\n",
       "  <thead>\n",
       "    <tr style=\"text-align: right;\">\n",
       "      <th></th>\n",
       "      <th>Name_country</th>\n",
       "      <th>Age_group</th>\n",
       "      <th>Number</th>\n",
       "      <th>Time</th>\n",
       "      <th>Pace_0_5</th>\n",
       "      <th>Pace_35_40</th>\n",
       "      <th>First_half</th>\n",
       "      <th>Second_half</th>\n",
       "      <th>Country</th>\n",
       "      <th>Gender</th>\n",
       "      <th>Age</th>\n",
       "      <th>Country_long</th>\n",
       "      <th>Name</th>\n",
       "    </tr>\n",
       "  </thead>\n",
       "  <tbody>\n",
       "    <tr>\n",
       "      <th>0</th>\n",
       "      <td>Adola, Guye (ETH)</td>\n",
       "      <td>M30</td>\n",
       "      <td>2.0</td>\n",
       "      <td>02:05:48</td>\n",
       "      <td>02:53</td>\n",
       "      <td>03:12</td>\n",
       "      <td>01:00:48</td>\n",
       "      <td>01:05:00</td>\n",
       "      <td>ETH</td>\n",
       "      <td>M</td>\n",
       "      <td>30</td>\n",
       "      <td>Ethiopia</td>\n",
       "      <td>Adola, Guye</td>\n",
       "    </tr>\n",
       "  </tbody>\n",
       "</table>\n",
       "</div>"
      ],
      "text/plain": [
       "        Name_country Age_group  Number      Time Pace_0_5 Pace_35_40  \\\n",
       "0  Adola, Guye (ETH)       M30     2.0  02:05:48    02:53      03:12   \n",
       "\n",
       "  First_half Second_half Country Gender Age Country_long          Name  \n",
       "0   01:00:48    01:05:00     ETH      M  30     Ethiopia  Adola, Guye   "
      ]
     },
     "execution_count": 62,
     "metadata": {},
     "output_type": "execute_result"
    }
   ],
   "source": [
    "df_merged"
   ]
  },
  {
   "cell_type": "code",
   "execution_count": 70,
   "id": "39a9432a",
   "metadata": {},
   "outputs": [
    {
     "data": {
      "text/plain": [
       "count            1\n",
       "unique           1\n",
       "top       02:05:48\n",
       "freq             1\n",
       "Name: Time, dtype: object"
      ]
     },
     "execution_count": 70,
     "metadata": {},
     "output_type": "execute_result"
    }
   ],
   "source": [
    "times = df_merged['Time']\n",
    "times.describe()"
   ]
  },
  {
   "cell_type": "code",
   "execution_count": 71,
   "id": "79257597",
   "metadata": {},
   "outputs": [],
   "source": [
    "# counting minutes from Time\n",
    "\n",
    "tot_min = []\n",
    "times = list(times)\n",
    "\n",
    "for i in times:\n",
    "    t=i.split(':')\n",
    "    tot_min.append(int(t[0])*60+int(t[1])*1 +int(t[2])/60)"
   ]
  },
  {
   "cell_type": "code",
   "execution_count": 72,
   "id": "0a9483be",
   "metadata": {},
   "outputs": [
    {
     "data": {
      "text/plain": [
       "[125.8]"
      ]
     },
     "execution_count": 72,
     "metadata": {},
     "output_type": "execute_result"
    }
   ],
   "source": [
    "tot_min"
   ]
  },
  {
   "cell_type": "code",
   "execution_count": 76,
   "id": "ca5fd11b",
   "metadata": {},
   "outputs": [],
   "source": [
    "time_firsthalf = df_merged['First_half']\n",
    "time_secondhalf = df_merged['Second_half']"
   ]
  },
  {
   "cell_type": "code",
   "execution_count": 82,
   "id": "80736314",
   "metadata": {},
   "outputs": [],
   "source": [
    "# counting minutes from Fisrt_half and Second_half\n",
    "\n",
    "tot_min_firsthalf = []\n",
    "time_firsthalf = list(time_firsthalf)\n",
    "\n",
    "for i in time_firsthalf:\n",
    "    t=i.split(':')\n",
    "    tot_min_firsthalf.append(int(t[0])*60+int(t[1])*1 +int(t[2])/60)\n",
    "    "
   ]
  },
  {
   "cell_type": "code",
   "execution_count": 87,
   "id": "3431e4ad",
   "metadata": {},
   "outputs": [
    {
     "data": {
      "text/plain": [
       "[60.8]"
      ]
     },
     "execution_count": 87,
     "metadata": {},
     "output_type": "execute_result"
    }
   ],
   "source": [
    "tot_min_firsthalf"
   ]
  },
  {
   "cell_type": "code",
   "execution_count": 88,
   "id": "11a6314b",
   "metadata": {},
   "outputs": [
    {
     "data": {
      "text/plain": [
       "[65.0]"
      ]
     },
     "execution_count": 88,
     "metadata": {},
     "output_type": "execute_result"
    }
   ],
   "source": [
    "tot_min_secondhalf"
   ]
  },
  {
   "cell_type": "code",
   "execution_count": 106,
   "id": "02818b65",
   "metadata": {},
   "outputs": [],
   "source": [
    "time_Pace_05 = df_merged['Pace_0_5']\n",
    "time_Pace_3540 = df_merged['Pace_35_40']"
   ]
  },
  {
   "cell_type": "code",
   "execution_count": 107,
   "id": "27fbce7d",
   "metadata": {},
   "outputs": [],
   "source": [
    "# counting seconds from Pace_0_5 and Pace_35_40\n",
    "\n",
    "tot_sec_0_5 = []\n",
    "time_Pace_05 = list(time_Pace_05)\n",
    "\n",
    "for i in time_Pace_05:\n",
    "    t=i.split(':')\n",
    "    tot_sec_0_5.append(int(t[0])*60 +int(t[1])*1)\n",
    "    \n",
    "tot_sec_35_40 = []\n",
    "time_Pace_3540 = list(time_Pace_3540)\n",
    "\n",
    "for i in time_Pace_3540:\n",
    "    t=i.split(':')\n",
    "    tot_sec_35_40.append(int(t[0])*60 +int(t[1])*1)"
   ]
  },
  {
   "cell_type": "code",
   "execution_count": 104,
   "id": "9461f796",
   "metadata": {},
   "outputs": [
    {
     "data": {
      "text/plain": [
       "[173]"
      ]
     },
     "execution_count": 104,
     "metadata": {},
     "output_type": "execute_result"
    }
   ],
   "source": [
    "tot_sec_0_5"
   ]
  },
  {
   "cell_type": "code",
   "execution_count": 108,
   "id": "675222e1",
   "metadata": {},
   "outputs": [
    {
     "data": {
      "text/plain": [
       "[192]"
      ]
     },
     "execution_count": 108,
     "metadata": {},
     "output_type": "execute_result"
    }
   ],
   "source": [
    "tot_sec_35_40"
   ]
  },
  {
   "cell_type": "code",
   "execution_count": 130,
   "id": "32cf6e47",
   "metadata": {},
   "outputs": [],
   "source": [
    "Name = df_merged['Name']"
   ]
  },
  {
   "cell_type": "code",
   "execution_count": 131,
   "id": "79ff2d8d",
   "metadata": {},
   "outputs": [],
   "source": [
    "times_new = pd.DataFrame(\n",
    "    {'Time': tot_min,\n",
    "     'First_half': tot_min_firsthalf,\n",
    "     'Second_half': tot_min_secondhalf,\n",
    "     'Pace_0_5': tot_sec_0_5,\n",
    "     'Pace_35_40':tot_sec_35_40,\n",
    "     'Name':Name\n",
    "    })"
   ]
  },
  {
   "cell_type": "code",
   "execution_count": 132,
   "id": "72dca231",
   "metadata": {},
   "outputs": [
    {
     "data": {
      "text/html": [
       "<div>\n",
       "<style scoped>\n",
       "    .dataframe tbody tr th:only-of-type {\n",
       "        vertical-align: middle;\n",
       "    }\n",
       "\n",
       "    .dataframe tbody tr th {\n",
       "        vertical-align: top;\n",
       "    }\n",
       "\n",
       "    .dataframe thead th {\n",
       "        text-align: right;\n",
       "    }\n",
       "</style>\n",
       "<table border=\"1\" class=\"dataframe\">\n",
       "  <thead>\n",
       "    <tr style=\"text-align: right;\">\n",
       "      <th></th>\n",
       "      <th>Time</th>\n",
       "      <th>First_half</th>\n",
       "      <th>Second_half</th>\n",
       "      <th>Pace_0_5</th>\n",
       "      <th>Pace_35_40</th>\n",
       "      <th>Name</th>\n",
       "    </tr>\n",
       "  </thead>\n",
       "  <tbody>\n",
       "    <tr>\n",
       "      <th>0</th>\n",
       "      <td>125.8</td>\n",
       "      <td>60.8</td>\n",
       "      <td>65.0</td>\n",
       "      <td>173</td>\n",
       "      <td>192</td>\n",
       "      <td>Adola, Guye</td>\n",
       "    </tr>\n",
       "  </tbody>\n",
       "</table>\n",
       "</div>"
      ],
      "text/plain": [
       "    Time  First_half  Second_half  Pace_0_5  Pace_35_40          Name\n",
       "0  125.8        60.8         65.0       173         192  Adola, Guye "
      ]
     },
     "execution_count": 132,
     "metadata": {},
     "output_type": "execute_result"
    }
   ],
   "source": [
    "times_new"
   ]
  },
  {
   "cell_type": "code",
   "execution_count": 124,
   "id": "9d11669c",
   "metadata": {},
   "outputs": [
    {
     "name": "stdout",
     "output_type": "stream",
     "text": [
      "<class 'pandas.core.frame.DataFrame'>\n",
      "RangeIndex: 1 entries, 0 to 0\n",
      "Data columns (total 5 columns):\n",
      " #   Column       Non-Null Count  Dtype  \n",
      "---  ------       --------------  -----  \n",
      " 0   Time         1 non-null      float64\n",
      " 1   First_half   1 non-null      float64\n",
      " 2   Second_half  1 non-null      float64\n",
      " 3   Pace_0_5     1 non-null      int64  \n",
      " 4   Pace_35_40   1 non-null      int64  \n",
      "dtypes: float64(3), int64(2)\n",
      "memory usage: 168.0 bytes\n"
     ]
    }
   ],
   "source": [
    "times_new.info()"
   ]
  },
  {
   "cell_type": "code",
   "execution_count": 129,
   "id": "96ebdaeb",
   "metadata": {},
   "outputs": [],
   "source": [
    "times_new['Time'] = int(times_new['Time'])\n",
    "times_new['First_half'] = int(times_new['First_half'])\n",
    "times_new['Second_half'] = int(times_new['Second_half'])\n",
    "df_merged['Number'] = int(df_merged['Number'])"
   ]
  },
  {
   "cell_type": "code",
   "execution_count": 133,
   "id": "ac321ea5",
   "metadata": {},
   "outputs": [],
   "source": [
    "df_joined = pd.merge(df_merged, \n",
    "                      times_new, \n",
    "                      on ='Name', \n",
    "                      how ='inner')"
   ]
  },
  {
   "cell_type": "code",
   "execution_count": 134,
   "id": "2a25384d",
   "metadata": {},
   "outputs": [
    {
     "data": {
      "text/html": [
       "<div>\n",
       "<style scoped>\n",
       "    .dataframe tbody tr th:only-of-type {\n",
       "        vertical-align: middle;\n",
       "    }\n",
       "\n",
       "    .dataframe tbody tr th {\n",
       "        vertical-align: top;\n",
       "    }\n",
       "\n",
       "    .dataframe thead th {\n",
       "        text-align: right;\n",
       "    }\n",
       "</style>\n",
       "<table border=\"1\" class=\"dataframe\">\n",
       "  <thead>\n",
       "    <tr style=\"text-align: right;\">\n",
       "      <th></th>\n",
       "      <th>Name_country</th>\n",
       "      <th>Age_group</th>\n",
       "      <th>Number</th>\n",
       "      <th>Time_x</th>\n",
       "      <th>Pace_0_5_x</th>\n",
       "      <th>Pace_35_40_x</th>\n",
       "      <th>First_half_x</th>\n",
       "      <th>Second_half_x</th>\n",
       "      <th>Country</th>\n",
       "      <th>Gender</th>\n",
       "      <th>Age</th>\n",
       "      <th>Country_long</th>\n",
       "      <th>Name</th>\n",
       "      <th>Time_y</th>\n",
       "      <th>First_half_y</th>\n",
       "      <th>Second_half_y</th>\n",
       "      <th>Pace_0_5_y</th>\n",
       "      <th>Pace_35_40_y</th>\n",
       "    </tr>\n",
       "  </thead>\n",
       "  <tbody>\n",
       "    <tr>\n",
       "      <th>0</th>\n",
       "      <td>Adola, Guye (ETH)</td>\n",
       "      <td>M30</td>\n",
       "      <td>2</td>\n",
       "      <td>02:05:48</td>\n",
       "      <td>02:53</td>\n",
       "      <td>03:12</td>\n",
       "      <td>01:00:48</td>\n",
       "      <td>01:05:00</td>\n",
       "      <td>ETH</td>\n",
       "      <td>M</td>\n",
       "      <td>30</td>\n",
       "      <td>Ethiopia</td>\n",
       "      <td>Adola, Guye</td>\n",
       "      <td>125.8</td>\n",
       "      <td>60.8</td>\n",
       "      <td>65.0</td>\n",
       "      <td>173</td>\n",
       "      <td>192</td>\n",
       "    </tr>\n",
       "  </tbody>\n",
       "</table>\n",
       "</div>"
      ],
      "text/plain": [
       "        Name_country Age_group  Number    Time_x Pace_0_5_x Pace_35_40_x  \\\n",
       "0  Adola, Guye (ETH)       M30       2  02:05:48      02:53        03:12   \n",
       "\n",
       "  First_half_x Second_half_x Country Gender Age Country_long          Name  \\\n",
       "0     01:00:48      01:05:00     ETH      M  30     Ethiopia  Adola, Guye    \n",
       "\n",
       "   Time_y  First_half_y  Second_half_y  Pace_0_5_y  Pace_35_40_y  \n",
       "0   125.8          60.8           65.0         173           192  "
      ]
     },
     "execution_count": 134,
     "metadata": {},
     "output_type": "execute_result"
    }
   ],
   "source": [
    "df_joined"
   ]
  },
  {
   "cell_type": "code",
   "execution_count": null,
   "id": "22c1a966",
   "metadata": {},
   "outputs": [],
   "source": []
  }
 ],
 "metadata": {
  "kernelspec": {
   "display_name": "Python 3 (ipykernel)",
   "language": "python",
   "name": "python3"
  },
  "language_info": {
   "codemirror_mode": {
    "name": "ipython",
    "version": 3
   },
   "file_extension": ".py",
   "mimetype": "text/x-python",
   "name": "python",
   "nbconvert_exporter": "python",
   "pygments_lexer": "ipython3",
   "version": "3.8.12"
  }
 },
 "nbformat": 4,
 "nbformat_minor": 5
}
